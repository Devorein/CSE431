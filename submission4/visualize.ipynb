{
  "nbformat": 4,
  "nbformat_minor": 0,
  "metadata": {
    "colab": {
      "provenance": []
    },
    "kernelspec": {
      "name": "python3",
      "display_name": "Python 3"
    },
    "language_info": {
      "name": "python"
    }
  },
  "cells": [
    {
      "cell_type": "code",
      "execution_count": null,
      "metadata": {
        "colab": {
          "base_uri": "https://localhost:8080/"
        },
        "id": "03-jJVg2yI9m",
        "outputId": "73e3c531-da0e-4786-f94b-698f333aaaf0"
      },
      "outputs": [
        {
          "output_type": "stream",
          "name": "stdout",
          "text": [
            "Looking in indexes: https://pypi.org/simple, https://us-python.pkg.dev/colab-wheels/public/simple/\n",
            "Requirement already satisfied: pandas in /usr/local/lib/python3.8/dist-packages (1.3.5)\n",
            "Requirement already satisfied: matplotlib in /usr/local/lib/python3.8/dist-packages (3.2.2)\n",
            "Requirement already satisfied: seaborn in /usr/local/lib/python3.8/dist-packages (0.11.2)\n",
            "Requirement already satisfied: pytz>=2017.3 in /usr/local/lib/python3.8/dist-packages (from pandas) (2022.6)\n",
            "Requirement already satisfied: python-dateutil>=2.7.3 in /usr/local/lib/python3.8/dist-packages (from pandas) (2.8.2)\n",
            "Requirement already satisfied: numpy>=1.17.3 in /usr/local/lib/python3.8/dist-packages (from pandas) (1.21.6)\n",
            "Requirement already satisfied: six>=1.5 in /usr/local/lib/python3.8/dist-packages (from python-dateutil>=2.7.3->pandas) (1.15.0)\n",
            "Requirement already satisfied: cycler>=0.10 in /usr/local/lib/python3.8/dist-packages (from matplotlib) (0.11.0)\n",
            "Requirement already satisfied: kiwisolver>=1.0.1 in /usr/local/lib/python3.8/dist-packages (from matplotlib) (1.4.4)\n",
            "Requirement already satisfied: pyparsing!=2.0.4,!=2.1.2,!=2.1.6,>=2.0.1 in /usr/local/lib/python3.8/dist-packages (from matplotlib) (3.0.9)\n",
            "Requirement already satisfied: scipy>=1.0 in /usr/local/lib/python3.8/dist-packages (from seaborn) (1.7.3)\n"
          ]
        }
      ],
      "source": [
        "!pip install pandas matplotlib seaborn"
      ]
    },
    {
      "cell_type": "code",
      "source": [
        "import json\n",
        "import pandas as pd\n",
        "\n",
        "aggregate_df = pd.DataFrame(columns=[\"mlqa_avg_qsm\", \"mlqa_avg_asm\", \"coqa_avg_qsm\", \"coqa_avg_asm\"])\n",
        "\n",
        "def update_aggregate_df(model_name, file_path):\n",
        "  df = pd.read_json(file_path)\n",
        "  mlqa_avg_qsm = df[df[\"source\"] == \"mlqa\"][\"question_semantic_similarity\"].mean()\n",
        "  mlqa_avg_asm = df[df[\"source\"] == \"mlqa\"][\"answer_semantic_similarity\"].mean()\n",
        "  coqa_avg_qsm = df[df[\"source\"] == \"coqa\"][\"question_semantic_similarity\"].mean()\n",
        "  coqa_avg_asm = df[df[\"source\"] == \"coqa\"][\"answer_semantic_similarity\"].mean()\n",
        "  global aggregate_df\n",
        "  aggregate_df = aggregate_df.append(pd.DataFrame([[mlqa_avg_qsm, mlqa_avg_asm, coqa_avg_qsm, coqa_avg_asm]],index=[model_name],columns=aggregate_df.columns))\n",
        "\n",
        "update_aggregate_df(\"bart-base\", \"./generated/bart-base.json\")\n",
        "update_aggregate_df(\"distilbart\", \"./generated/distilbart.json\")\n",
        "update_aggregate_df(\"gpt2-small\", \"./generated/gpt2-small.json\")\n",
        "update_aggregate_df(\"t5-base\", \"./generated/t5-base.json\")\n",
        "update_aggregate_df(\"t5-large\", \"./generated/t5-large.json\")\n",
        "\n",
        "print(aggregate_df.head())"
      ],
      "metadata": {
        "colab": {
          "base_uri": "https://localhost:8080/"
        },
        "id": "TCw_Chfqy065",
        "outputId": "4feec700-8885-4a1b-99a6-b4940f4b5541"
      },
      "execution_count": null,
      "outputs": [
        {
          "output_type": "stream",
          "name": "stdout",
          "text": [
            "            mlqa_avg_qsm  mlqa_avg_asm  coqa_avg_qsm  coqa_avg_asm\n",
            "bart-base       0.597067      0.850951      0.388793      0.654058\n",
            "distilbart      0.613098      0.838836      0.368486      0.644957\n",
            "gpt2-small      0.474006      0.663012      0.392500      0.625554\n",
            "t5-base         0.635866      0.861155      0.435214      0.692511\n",
            "t5-large        0.601336      0.836608      0.434320      0.735961\n"
          ]
        }
      ]
    },
    {
      "cell_type": "code",
      "source": [
        "import matplotlib.pyplot as plt\n",
        "import numpy as np\n",
        "import seaborn as sns\n",
        "import matplotlib.lines as mlines\n",
        "\n",
        "# creating the dataset\n",
        "models = list(aggregate_df.index)\n",
        "metrics = list(aggregate_df.columns)\n",
        "width = 0.2\n",
        "\n",
        "fig = plt.figure(figsize = (10, 5))\n",
        "x = np.arange(len(metrics))\n",
        "width = 0.1\n",
        "  \n",
        "# plot data in grouped manner of bar type\n",
        "plt.bar(x-0.2, aggregate_df.loc[['bart-base']].values[0], width, color=\"red\")\n",
        "plt.bar(x-0.1, aggregate_df.loc[['distilbart']].values[0], width, color=\"blue\")\n",
        "plt.bar(x, aggregate_df.loc[['gpt2-small']].values[0], width, color=\"green\")\n",
        "plt.bar(x+0.1, aggregate_df.loc[['t5-base']].values[0], width, color=\"orange\")\n",
        "plt.bar(x+0.2, aggregate_df.loc[['t5-large']].values[0], width, color=\"purple\")\n",
        "\n",
        "plt.xlabel(\"Metrics\")\n",
        "plt.ylabel(\"Score\")\n",
        "plt.xticks(x, metrics)\n",
        "plt.title(\"QG Model average semantic_similarity scores across datasets\")\n",
        "plt.legend(handles=[\n",
        "    mlines.Line2D([], [], marker=\"s\", color='red', label='bart-base'),\n",
        "    mlines.Line2D([], [], marker=\"s\", color='blue', label='distilbart'),\n",
        "    mlines.Line2D([], [], marker=\"s\", color='green', label='gpt2-small'),\n",
        "    mlines.Line2D([], [], marker=\"s\", color='orange', label='t5-base'),\n",
        "    mlines.Line2D([], [], marker=\"s\", color='purple', label='t5-large'),\n",
        "])\n",
        "plt.show()"
      ],
      "metadata": {
        "colab": {
          "base_uri": "https://localhost:8080/",
          "height": 351
        },
        "id": "rMSpFGCT4tP6",
        "outputId": "07787b13-ec0b-414f-85c7-e10eddf97aa4"
      },
      "execution_count": null,
      "outputs": [
        {
          "output_type": "display_data",
          "data": {
            "text/plain": [
              "<Figure size 720x360 with 1 Axes>"
            ],
            "image/png": "[encoded data removed]"
          },
          "metadata": {
            "needs_background": "light"
          }
        }
      ]
    }
  ]
}